{
 "cells": [
  {
   "cell_type": "code",
   "execution_count": 6,
   "metadata": {},
   "outputs": [],
   "source": [
    "import cv2\n",
    "\n",
    "# Load the video file\n",
    "video = cv2.VideoCapture('test-v.avi')"
   ]
  },
  {
   "cell_type": "code",
   "execution_count": 7,
   "metadata": {},
   "outputs": [
    {
     "name": "stdout",
     "output_type": "stream",
     "text": [
      "FPS: 30.0\n",
      "Width: 636\n",
      "Height: 422\n",
      "Number of frames: 56\n"
     ]
    }
   ],
   "source": [
    "# Get video properties\n",
    "fps = video.get(cv2.CAP_PROP_FPS)\n",
    "width = int(video.get(cv2.CAP_PROP_FRAME_WIDTH))\n",
    "height = int(video.get(cv2.CAP_PROP_FRAME_HEIGHT))\n",
    "num_frames = int(video.get(cv2.CAP_PROP_FRAME_COUNT))\n",
    "\n",
    "print(f\"FPS: {fps}\")\n",
    "print(f\"Width: {width}\")\n",
    "print(f\"Height: {height}\")\n",
    "print(f\"Number of frames: {num_frames}\")"
   ]
  },
  {
   "cell_type": "code",
   "execution_count": 8,
   "metadata": {},
   "outputs": [],
   "source": [
    "# Create a folder to save the frames\n",
    "import os\n",
    "if not os.path.exists('frames'):\n",
    "    os.makedirs('frames')\n",
    "\n",
    "# Loop through the frames and save them\n",
    "frame_count = 0\n",
    "while True:\n",
    "    ret, frame = video.read()\n",
    "    if not ret:\n",
    "        break\n",
    "    cv2.imwrite(f'frames/frame_{frame_count}.jpg', frame)\n",
    "    frame_count += 1\n",
    "    \n",
    "# Release the video capture\n",
    "video.release()"
   ]
  },
  {
   "cell_type": "code",
   "execution_count": 13,
   "metadata": {},
   "outputs": [
    {
     "name": "stdout",
     "output_type": "stream",
     "text": [
      "File size: 46062 bytes (0.04 MB, 368496 bits)\n"
     ]
    }
   ],
   "source": [
    "path = 'frames/frame_1.jpg'\n",
    "image = cv2.imread(path)\n",
    "\n",
    "file_size_bytes = os.path.getsize(path)\n",
    "\n",
    "# Convert the file size to megabytes (MB)\n",
    "file_size_mb = file_size_bytes / (1024 ** 2)\n",
    "\n",
    "# Print the file size\n",
    "print(f\"File size: {file_size_bytes} bytes ({file_size_mb:.2f} MB)"
   ]
  },
  {
   "cell_type": "code",
   "execution_count": 16,
   "metadata": {},
   "outputs": [
    {
     "data": {
      "text/plain": [
       "57.33837890625"
      ]
     },
     "execution_count": 16,
     "metadata": {},
     "output_type": "execute_result"
    }
   ],
   "source": [
    "file_size_bytes = os.path.getsize('test-v.avi')\n",
    "\n",
    "# Convert the file size to megabytes (MB)\n",
    "file_size_mb = file_size_bytes / (1024 ** 2)\n",
    "\n",
    "# Print the file size\n",
    "file_size_mb"
   ]
  },
  {
   "cell_type": "code",
   "execution_count": 11,
   "metadata": {},
   "outputs": [
    {
     "name": "stdout",
     "output_type": "stream",
     "text": [
      "Height: 422 pixels\n",
      "Width: 636 pixels\n",
      "Channels: 3\n",
      "Image Type: uint8\n",
      "Total Pixels: 268392\n",
      "Blue Channel Shape: (422, 636)\n",
      "Green Channel Shape: (422, 636)\n",
      "Red Channel Shape: (422, 636)\n"
     ]
    }
   ],
   "source": [
    "# Get the height, width, and number of channels (RGB) of the image\n",
    "height, width, channels = image.shape\n",
    "print(f\"Height: {height} pixels\")\n",
    "print(f\"Width: {width} pixels\")\n",
    "print(f\"Channels: {channels}\")\n",
    "\n",
    "# Get the data type of the image\n",
    "image_type = image.dtype\n",
    "print(f\"Image Type: {image_type}\")\n",
    "\n",
    "# Get the total number of pixels in the image\n",
    "total_pixels = height * width\n",
    "print(f\"Total Pixels: {total_pixels}\")\n",
    "\n",
    "# Get the individual color channels (Blue, Green, Red)\n",
    "blue, green, red = cv2.split(image)\n",
    "print(f\"Blue Channel Shape: {blue.shape}\")\n",
    "print(f\"Green Channel Shape: {green.shape}\")\n",
    "print(f\"Red Channel Shape: {red.shape}\")\n"
   ]
  },
  {
   "cell_type": "code",
   "execution_count": null,
   "metadata": {},
   "outputs": [],
   "source": []
  }
 ],
 "metadata": {
  "kernelspec": {
   "display_name": "base",
   "language": "python",
   "name": "python3"
  },
  "language_info": {
   "codemirror_mode": {
    "name": "ipython",
    "version": 3
   },
   "file_extension": ".py",
   "mimetype": "text/x-python",
   "name": "python",
   "nbconvert_exporter": "python",
   "pygments_lexer": "ipython3",
   "version": "3.11.9"
  }
 },
 "nbformat": 4,
 "nbformat_minor": 2
}
